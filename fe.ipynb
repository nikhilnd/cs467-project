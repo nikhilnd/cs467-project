{
 "cells": [
  {
   "cell_type": "code",
   "execution_count": 1,
   "metadata": {},
   "outputs": [],
   "source": [
    "import numpy as np\n",
    "import pandas as pd"
   ]
  },
  {
   "cell_type": "code",
   "execution_count": 60,
   "metadata": {},
   "outputs": [],
   "source": [
    "\"\"\"\n",
    "Additional features: \n",
    "- High price\n",
    "- Low price\n",
    "- Log return \n",
    "- Realized volatility \n",
    "\"\"\"\n",
    "\n",
    "def calc_high(df, stock='a'): \n",
    "    high = None\n",
    "    for i in range(120): \n",
    "        if high is None: \n",
    "            high = (df[f\"bid_price1_{stock}_t={i}\"] + df[f\"ask_price1_{stock}_t={i}\"]) / 2\n",
    "        else: \n",
    "            high = np.maximum(high, (df[f\"bid_price1_{stock}_t={i}\"] + df[f\"ask_price1_{stock}_t={i}\"]) / 2) \n",
    "    return high \n",
    "\n",
    "def calc_low(df, stock='a'): \n",
    "    low = None\n",
    "    for i in range(120): \n",
    "        if low is None:\n",
    "            low = (df[f\"bid_price1_{stock}_t={i}\"] + df[f\"ask_price1_{stock}_t={i}\"]) / 2\n",
    "        else: \n",
    "            low = np.minimum(low, (df[f\"bid_price1_{stock}_t={i}\"] + df[f\"ask_price1_{stock}_t={i}\"]) / 2)\n",
    "    return low\n",
    "\n",
    "def calc_log_return(df, stock='a'): \n",
    "    start_price = (df[f\"bid_price1_{stock}_t=0\"] + df[f\"ask_price1_{stock}_t=0\"]) / 2\n",
    "    end_price = (df[f\"bid_price1_{stock}_t=119\"] + df[f\"ask_price1_{stock}_t=119\"]) / 2 \n",
    "    return np.log(end_price / start_price)\n",
    "\n",
    "def calc_volatility(df, stock='a'): \n",
    "    # Calculate volatility based on mid prices\n",
    "    mid_prices = []\n",
    "    for i in range(120): \n",
    "        mid_prices.append(\n",
    "           (df[f\"bid_price1_{stock}_t={i}\"] + df[f\"ask_price1_{stock}_t={i}\"]) / 2 \n",
    "        )\n",
    "    # Each row represents the price action for a 2 minute interval\n",
    "    mid_prices = np.array(mid_prices).T\n",
    "    volatility = []\n",
    "    for mp in mid_prices: \n",
    "        # Volatility = standard deviation of log returns\n",
    "        volatility.append(np.std(\n",
    "            np.log(mp[1:] / mp[:-1])\n",
    "        ))\n",
    "    return np.array(volatility)"
   ]
  },
  {
   "cell_type": "code",
   "execution_count": 25,
   "metadata": {},
   "outputs": [],
   "source": [
    "train_data = pd.read_csv(\"train.csv\")"
   ]
  },
  {
   "cell_type": "code",
   "execution_count": 26,
   "metadata": {},
   "outputs": [],
   "source": [
    "train_data[\"a_high\"] = calc_high(train_data)\n",
    "train_data[\"b_high\"] = calc_high(train_data, 'b')"
   ]
  },
  {
   "cell_type": "code",
   "execution_count": 30,
   "metadata": {},
   "outputs": [],
   "source": [
    "train_data[\"a_low\"] = calc_low(train_data)\n",
    "train_data[\"b_low\"] = calc_low(train_data, 'b')"
   ]
  },
  {
   "cell_type": "code",
   "execution_count": 36,
   "metadata": {},
   "outputs": [],
   "source": [
    "train_data[\"a_log_ret\"] = calc_log_return(train_data)\n",
    "train_data[\"b_log_ret\"] = calc_log_return(train_data, 'b')"
   ]
  },
  {
   "cell_type": "code",
   "execution_count": 63,
   "metadata": {},
   "outputs": [],
   "source": [
    "train_data[\"a_volatility\"] = calc_volatility(train_data)\n",
    "train_data[\"b_volatility\"] = calc_volatility(train_data, 'b')"
   ]
  },
  {
   "cell_type": "code",
   "execution_count": 65,
   "metadata": {},
   "outputs": [],
   "source": [
    "test_data = pd.read_csv(\"test.csv\")\n",
    "\n",
    "test_data[\"a_high\"] = calc_high(test_data)\n",
    "test_data[\"b_high\"] = calc_high(test_data, 'b')\n",
    "test_data[\"a_low\"] = calc_low(test_data)\n",
    "test_data[\"b_low\"] = calc_low(test_data, 'b')\n",
    "test_data[\"a_log_ret\"] = calc_log_return(test_data)\n",
    "test_data[\"b_log_ret\"] = calc_log_return(test_data, 'b')\n",
    "test_data[\"a_volatility\"] = calc_volatility(test_data)\n",
    "test_data[\"b_volatility\"] = calc_volatility(test_data, 'b')"
   ]
  },
  {
   "cell_type": "code",
   "execution_count": 67,
   "metadata": {},
   "outputs": [],
   "source": [
    "# Write train/test data with new features\n",
    "train_data.to_csv(\"train_fe.csv\", index=False)\n",
    "test_data.to_csv(\"test_fe.csv\", index=False)"
   ]
  },
  {
   "cell_type": "code",
   "execution_count": null,
   "metadata": {},
   "outputs": [],
   "source": []
  }
 ],
 "metadata": {
  "kernelspec": {
   "display_name": "sig",
   "language": "python",
   "name": "python3"
  },
  "language_info": {
   "codemirror_mode": {
    "name": "ipython",
    "version": 3
   },
   "file_extension": ".py",
   "mimetype": "text/x-python",
   "name": "python",
   "nbconvert_exporter": "python",
   "pygments_lexer": "ipython3",
   "version": "3.11.10"
  }
 },
 "nbformat": 4,
 "nbformat_minor": 2
}
