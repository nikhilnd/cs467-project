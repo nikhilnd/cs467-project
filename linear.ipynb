{
 "cells": [
  {
   "cell_type": "code",
   "execution_count": null,
   "metadata": {},
   "outputs": [],
   "source": [
    "import numpy as np \n",
    "import pandas as pd\n",
    "from sklearn.linear_model import LogisticRegression\n",
    "from sklearn.metrics import accuracy_score\n",
    "\n",
    "import warnings\n",
    "warnings.filterwarnings(\"ignore\")"
   ]
  },
  {
   "cell_type": "code",
   "execution_count": null,
   "metadata": {},
   "outputs": [],
   "source": [
    "def run(fold, df, penalty=\"l2\", c=1, output=True): \n",
    "\n",
    "    # Split train and validation\n",
    "    df_train = df[df.fold != fold].reset_index(drop=True)\n",
    "    df_valid = df[df.fold == fold].reset_index(drop=True)\n",
    "\n",
    "    # Drop label for training and validation\n",
    "    x_train = df_train.drop([\"target\", \"fold\"], axis=1).values\n",
    "    y_train = df_train.target.values\n",
    "\n",
    "    x_valid = df_valid.drop([\"target\", \"fold\"], axis=1).values\n",
    "    y_valid = df_valid.target.values\n",
    "\n",
    "    # Initiate logistic regression\n",
    "    model = LogisticRegression(penalty=penalty, C=c, solver='saga')\n",
    "    model.fit(x_train, y_train)\n",
    "\n",
    "    # Generate predictions\n",
    "    train_preds = model.predict(x_train)\n",
    "    val_preds = model.predict(x_valid)\n",
    "\n",
    "    # Calculate and print accuracy\n",
    "    train_accuracy = accuracy_score(y_train, train_preds)\n",
    "    val_accuracy = accuracy_score(y_valid, val_preds)\n",
    "    if output: \n",
    "        print(f\"Fold={fold}, Val Acc={val_accuracy}, Train acc={train_accuracy}\")\n",
    "    return val_accuracy, train_accuracy"
   ]
  },
  {
   "cell_type": "code",
   "execution_count": null,
   "metadata": {},
   "outputs": [],
   "source": [
    "# Load data\n",
    "train_data = pd.read_csv(\"train.csv\")"
   ]
  },
  {
   "cell_type": "code",
   "execution_count": null,
   "metadata": {},
   "outputs": [],
   "source": [
    "# Baseline model \n",
    "valid_acc = []\n",
    "train_acc = []\n",
    "for i in range(5): \n",
    "    v, t = run(i, train_data) \n",
    "    valid_acc.append(v) \n",
    "    train_acc.append(t)\n",
    "print(f\"Average val acc={np.mean(valid_acc)}\")\n",
    "print(f\"Average train acc={np.mean(train_acc)}\")"
   ]
  },
  {
   "cell_type": "code",
   "execution_count": null,
   "metadata": {},
   "outputs": [],
   "source": [
    "# Hyperparameter tuning\n",
    "reg = ['l1', 'l2']\n",
    "c_choices = [1000, 100, 10, 1, 0.1] # C = 1/lambda\n",
    "avg_val_acc = {}\n",
    "avg_train_acc = {}\n",
    "for r in reg: \n",
    "    for c in c_choices: \n",
    "        curr_val = []\n",
    "        curr_train = []\n",
    "        for i in range(5): \n",
    "            v, t = run(i, train_data, r, c, False) \n",
    "            curr_val.append(v) \n",
    "            curr_train.append(t)\n",
    "        avg_val_acc[(r, c)] = np.mean(curr_val)\n",
    "        avg_train_acc[(r, c)] = np.mean(curr_train)\n",
    "        print(f\"({r}, {c}):\")\n",
    "        print(f\"\\tTrain: {avg_train_acc[(r, c)]:.5f}\")\n",
    "        print(f\"\\tVal: {avg_val_acc[(r, c)]:.5f}\")"
   ]
  },
  {
   "cell_type": "code",
   "execution_count": null,
   "metadata": {},
   "outputs": [],
   "source": [
    "for item in avg_val_acc: \n",
    "    print(item, avg_val_acc[item])"
   ]
  },
  {
   "cell_type": "code",
   "execution_count": null,
   "metadata": {},
   "outputs": [],
   "source": [
    "test_data = pd.read_csv(\"test.csv\")"
   ]
  },
  {
   "cell_type": "code",
   "execution_count": null,
   "metadata": {},
   "outputs": [],
   "source": [
    "x_test = test_data.drop([\"target\"], axis=1).values\n",
    "y_test = test_data.target.values"
   ]
  },
  {
   "cell_type": "code",
   "execution_count": null,
   "metadata": {},
   "outputs": [],
   "source": [
    "final_model = LogisticRegression(penalty='l2', C=1, solver='saga')\n",
    "final_model.fit(\n",
    "    train_data.drop([\"target\", \"fold\"], axis=1).values,\n",
    "    train_data.target.values\n",
    ")"
   ]
  },
  {
   "cell_type": "code",
   "execution_count": null,
   "metadata": {},
   "outputs": [],
   "source": [
    "accuracy_score(y_test, final_model.predict(x_test))"
   ]
  },
  {
   "cell_type": "code",
   "execution_count": null,
   "metadata": {},
   "outputs": [],
   "source": []
  }
 ],
 "metadata": {
  "kernelspec": {
   "display_name": "sig",
   "language": "python",
   "name": "python3"
  },
  "language_info": {
   "codemirror_mode": {
    "name": "ipython",
    "version": 3
   },
   "file_extension": ".py",
   "mimetype": "text/x-python",
   "name": "python",
   "nbconvert_exporter": "python",
   "pygments_lexer": "ipython3",
   "version": "3.11.10"
  }
 },
 "nbformat": 4,
 "nbformat_minor": 2
}
