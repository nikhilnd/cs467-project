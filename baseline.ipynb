{
 "cells": [
  {
   "cell_type": "code",
   "execution_count": null,
   "metadata": {},
   "outputs": [],
   "source": [
    "import pandas as pd\n",
    "from sklearn.metrics import accuracy_score"
   ]
  },
  {
   "cell_type": "code",
   "execution_count": null,
   "metadata": {},
   "outputs": [],
   "source": [
    "\"\"\"\n",
    "Baseline method: \n",
    "Assume that if stock A has outerperformed stock B in the past 2 minutes, \n",
    "it will outperform stock B over the next 2 minutes.\n",
    "\"\"\""
   ]
  },
  {
   "cell_type": "code",
   "execution_count": 8,
   "metadata": {},
   "outputs": [],
   "source": [
    "# Train results \n",
    "\n",
    "train_data = pd.read_csv('train.csv')\n",
    "a_perf_train = ((train_data[\"bid_price1_a_t=119\"] + train_data[\"ask_price1_a_t=119\"]) / 2) / ((train_data[\"bid_price1_a_t=0\"] + train_data[\"ask_price1_a_t=0\"]) / 2) - 1\n",
    "b_perf_train = ((train_data[\"bid_price1_b_t=119\"] + train_data[\"ask_price1_b_t=119\"]) / 2) / ((train_data[\"bid_price1_b_t=0\"] + train_data[\"ask_price1_b_t=0\"]) / 2) - 1\n",
    "train_baseline = a_perf_train > b_perf_train "
   ]
  },
  {
   "cell_type": "code",
   "execution_count": 13,
   "metadata": {},
   "outputs": [
    {
     "data": {
      "text/plain": [
       "0.4239628662605164"
      ]
     },
     "execution_count": 13,
     "metadata": {},
     "output_type": "execute_result"
    }
   ],
   "source": [
    "train_target = train_data[\"target\"]\n",
    "accuracy_score(train_target, train_baseline)"
   ]
  },
  {
   "cell_type": "code",
   "execution_count": 14,
   "metadata": {},
   "outputs": [],
   "source": [
    "# Test results\n",
    "\n",
    "test_data = pd.read_csv('test.csv')\n",
    "a_perf_test = ((test_data[\"bid_price1_a_t=119\"] + test_data[\"ask_price1_a_t=119\"]) / 2) / ((test_data[\"bid_price1_a_t=0\"] + test_data[\"ask_price1_a_t=0\"]) / 2) - 1\n",
    "b_perf_test = ((test_data[\"bid_price1_b_t=119\"] + test_data[\"ask_price1_b_t=119\"]) / 2) / ((test_data[\"bid_price1_b_t=0\"] + test_data[\"ask_price1_b_t=0\"]) / 2) - 1\n",
    "test_baseline = a_perf_test > b_perf_test"
   ]
  },
  {
   "cell_type": "code",
   "execution_count": 15,
   "metadata": {},
   "outputs": [
    {
     "data": {
      "text/plain": [
       "0.4182767624020888"
      ]
     },
     "execution_count": 15,
     "metadata": {},
     "output_type": "execute_result"
    }
   ],
   "source": [
    "test_target = test_data[\"target\"]\n",
    "accuracy_score(test_target, test_baseline)"
   ]
  }
 ],
 "metadata": {
  "kernelspec": {
   "display_name": "sig",
   "language": "python",
   "name": "python3"
  },
  "language_info": {
   "codemirror_mode": {
    "name": "ipython",
    "version": 3
   },
   "file_extension": ".py",
   "mimetype": "text/x-python",
   "name": "python",
   "nbconvert_exporter": "python",
   "pygments_lexer": "ipython3",
   "version": "3.11.10"
  }
 },
 "nbformat": 4,
 "nbformat_minor": 2
}
